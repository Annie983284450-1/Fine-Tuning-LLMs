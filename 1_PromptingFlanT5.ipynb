{
 "cells": [
  {
   "cell_type": "markdown",
   "metadata": {
    "id": "H32ZdSqDlyv8"
   },
   "source": [
    "# Prompting Flan-T5\n",
    "Flan-T5 is a variant of the T5 (Text-to-Text Transfer Transformer) language model developed by Google Research, specially fine-tuned for instruction-following tasks. It's part of a family called FLAN (Fine-tuned Language Net), designed to improve the ability of models to understand and respond effectively to natural language instructions.\n",
    "\n",
    "Each cell illustrates the use of the Flan-T5 model for different Natural Language Processing tasks\n",
    "- Cell 1 sets up the environment and loads the model.\n",
    "- Cell 2 demonstrates text summarization.\n",
    "- Cell 3 demonstrates translation.\n",
    "- Cell 4 demonstrates question-answering."
   ]
  },
  {
   "cell_type": "code",
   "execution_count": null,
   "metadata": {
    "id": "CRavaaYglY-g"
   },
   "outputs": [],
   "source": [
    "!pip install transformers tensorflow\n",
    "from transformers import TFAutoModelForSeq2SeqLM, AutoTokenizer\n",
    "# initializes the model and tokenizer for subsequent use\n",
    "tokenizer = AutoTokenizer.from_pretrained(\"google/flan-t5-large\")\n",
    "model = TFAutoModelForSeq2SeqLM.from_pretrained(\"google/flan-t5-large\")"
   ]
  },
  {
   "cell_type": "markdown",
   "metadata": {
    "id": "7GB8AnY4lwxB"
   },
   "source": [
    "## Text Summarization"
   ]
  },
  {
   "cell_type": "code",
   "execution_count": null,
   "metadata": {
    "id": "uvPXjilcllrB"
   },
   "outputs": [],
   "source": [
    "\n",
    "prompt = \"summarize: Studies show that eating carrots helps improve vision. Carrots contain beta-carotene, a substance that the body converts into vitamin A, crucial for maintaining healthy eyesight.\"\n",
    "inputs = tokenizer(prompt, return_tensors=\"tf\", max_length=512, truncation=True, padding=True)\n",
    "# Uses the Flan-T5 model to generate a summarized output from the tokenized input.\n",
    "# max_length=150 limits the generated text to at most 150 tokens.\n",
    "# num_beams=5 applies beam search with 5 beams, which is a search strategy used to improve the quality of the generated text by considering multiple output sequences.\n",
    "# early_stopping=True stops generation as soon as the model encounters a token indicating it has sufficiently completed the output, which helps avoid unnecessary computations.\n",
    "outputs = model.generate(inputs[\"input_ids\"], max_length=150, num_beams=5, early_stopping=True)\n",
    "print(tokenizer.decode(outputs[0], skip_special_tokens=True))\n"
   ]
  },
  {
   "cell_type": "markdown",
   "metadata": {
    "id": "LYNe64r7l2E7"
   },
   "source": [
    "## Translation"
   ]
  },
  {
   "cell_type": "code",
   "execution_count": null,
   "metadata": {
    "id": "fBQ51yeLluC3"
   },
   "outputs": [],
   "source": [
    "# Define the translation prompt\n",
    "translation_prompt = \"translate English to Spanish: Cheese is delicious.\"\n",
    "# Prepare inputs and generate outputs\n",
    "translation_inputs = tokenizer(translation_prompt, return_tensors=\"tf\", max_length=512, truncation=True, padding=True)\n",
    "translation_outputs = model.generate(translation_inputs[\"input_ids\"], max_length=40, num_beams=5, early_stopping=True)\n",
    "# Decode and display the translation\n",
    "print(tokenizer.decode(translation_outputs[0], skip_special_tokens=True))"
   ]
  },
  {
   "cell_type": "markdown",
   "metadata": {
    "id": "2ROnEy2jl5DM"
   },
   "source": [
    "## Question-Answering\n"
   ]
  },
  {
   "cell_type": "code",
   "execution_count": null,
   "metadata": {
    "id": "f8nMmdpwl6IQ"
   },
   "outputs": [],
   "source": [
    "# Define the context and question\n",
    "context_question = \"The Great Wall of China is over 13,000 miles long. question: How long is the Great Wall of China?\"\n",
    "# Generate inputs\n",
    "question_inputs = tokenizer(context_question, return_tensors=\"tf\", max_length=512, truncation=True, padding=True)\n",
    "# Generate outputs\n",
    "question_outputs = model.generate(question_inputs[\"input_ids\"], max_length=50, num_beams=5, early_stopping=True)\n",
    "# Decode and print the answer\n",
    "print(tokenizer.decode(question_outputs[0], skip_special_tokens=True))\n"
   ]
  }
 ],
 "metadata": {
  "accelerator": "GPU",
  "colab": {
   "authorship_tag": "ABX9TyOPk3N/vFKYlLD1ane1xbR5",
   "gpuType": "A100",
   "machine_shape": "hm",
   "provenance": []
  },
  "kernelspec": {
   "display_name": "Python 3",
   "name": "python3"
  },
  "language_info": {
   "name": "python"
  }
 },
 "nbformat": 4,
 "nbformat_minor": 0
}
